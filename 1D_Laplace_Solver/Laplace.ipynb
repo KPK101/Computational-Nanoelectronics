{
 "cells": [
  {
   "cell_type": "markdown",
   "id": "342e97f4",
   "metadata": {},
   "source": [
    "# Assignment 2\n",
    "## Pranav Kumar Kota - EE19BTECH11051"
   ]
  },
  {
   "cell_type": "code",
   "execution_count": 1,
   "id": "24028145",
   "metadata": {},
   "outputs": [],
   "source": [
    "import numpy as np\n",
    "import matplotlib.pyplot as plt\n",
    "import scipy as sc"
   ]
  },
  {
   "cell_type": "markdown",
   "id": "78e4bfda",
   "metadata": {},
   "source": [
    "#### A sample material structure with domains of different $\\epsilon$ adjacent to each other:\n",
    "\n",
    "$| * * * * * | * * * | * * * | * * * * * * * | * * * * * * * * * * |$\n",
    "\n",
    "    5pts   3pts   3pts     7pts           10pts    \n",
    "    \n",
    "    \n",
    "---------------------------------------------------------------------------------------------------\n",
    "\n",
    "### Theory:\n",
    "\n",
    "    \n",
    "At the interface, the electric fields are related by the boundary condition\n",
    "\n",
    "$\\Delta D = \\rho_f $, where $D$ is the displacement field and $\\rho_f$ is the free charge density\n",
    "\n",
    "\n",
    "\\begin{equation}\n",
    "\\implies \\epsilon_i E_{i}=\\epsilon_{i+1} E_{i+1} \\because\\ \\rho_f=0\n",
    "\\end{equation}\n",
    "\n",
    "The potential of the $(i+1)^{th}$ domain  $v_{i+1}$  can be written in terms of $v_i$ as:\n",
    "\\begin{equation}\n",
    " v_{i+1} = v_i - E_i\\times \\Delta h\\times (n_i-1)\n",
    "\\end{equation}\n",
    " \n",
    " where $n_i$ is the number of points in the $i^{th}$ domain.\n",
    " \n",
    "We can recursively apply this to express $E_0$ (the electric field of the first domain ) in terms of the applied boundary voltages and calculate it.\n",
    " \n",
    "$v_N = v_0 - \\sum_{i=0}^{N-1} \\frac{\\epsilon_0}{\\epsilon_i}E_i(n_i-1)\\Delta h$ \n",
    " \n",
    "Then, we compute the reamining fields using the displacement field boundary condition. From these, we can obtain the potential of every point in the given mesh."
   ]
  },
  {
   "cell_type": "code",
   "execution_count": 2,
   "id": "9cc43f68",
   "metadata": {},
   "outputs": [],
   "source": [
    "class mesh(): # mesh class\n",
    "    \n",
    "    def __init__(self,numdom=0,dom_points=[],epsilons=[],dh = 1e-9): # distance between two points = dh (mesh constant)\n",
    "        self.numdom=numdom\n",
    "        self.dom_points=dom_points\n",
    "        self.epsilons=epsilons\n",
    "        self.dh = dh\n",
    "    \n",
    "\n",
    "        \n",
    "    def displayMesh(self): # displays the mesh\n",
    "        x_prev=0\n",
    "        for i,dp in enumerate(self.dom_points):\n",
    "            x = [j*dh+ x_prev for j in range(dp)]\n",
    "            ONE = [1*self.epsilons[i] for k in range(len(x))]\n",
    "            plt.plot(x,ONE)\n",
    "            plt.scatter(x,ONE)\n",
    "            plt.text((x[0]+x[-1])/2,1.02,f'D{i+1}')\n",
    "            plt.axvline(x = x[0], color = 'black', label = 'axvline - full height', alpha=0.5)\n",
    "            x_prev = x[-1]\n",
    "\n",
    "        plt.axvline(x = x[-1], color = 'black', label = 'axvline - full height', alpha=0.5)\n",
    "        plt.title('1D Structure')\n",
    "        plt.xlabel('x (m)')\n",
    "        plt.ylabel(r'$\\epsilon_r$')\n",
    "        plt.show()\n",
    "\n",
    "    \n",
    "    def mesh(self): # generate a mesh and return it \n",
    "        m = []\n",
    "        if(len(self.dom_points)!=self.numdom):\n",
    "            raise ValueError('numdom does not match size of dom_points')\n",
    "        elif(len(self.epsilons)!=self.numdom):\n",
    "            raise ValueError('numdom does not match size of dom_points')\n",
    "        for i,n in enumerate(range(self.numdom)):\n",
    "            m.append(np.zeros((self.dom_points[i])))\n",
    "        return m\n",
    "    \n",
    "    def solveLaplace(self,boundary_voltages=[0,0],plotPotentials=False):\n",
    "        \n",
    "        V0=boundary_voltages[0]\n",
    "        V1=boundary_voltages[1]\n",
    "        def backtrack(V0,V1,dom_points=self.dom_points,epsilons=self.epsilons,dh=self.dh):   \n",
    "            K = 0\n",
    "            e0 = epsilons[0]\n",
    "            for i,(eps_el,num_el) in enumerate(zip(epsilons,dom_points)):\n",
    "                K += (num_el-1)*dh*(e0/eps_el)\n",
    "            E0 = (V0-V1)/K\n",
    "            E_fields = [E0]\n",
    "            for i,eps_el in enumerate(epsilons):\n",
    "                if(i!=0):\n",
    "                    E_fields.append(e0/eps_el*E0)  \n",
    "            return E_fields\n",
    "\n",
    "        def compute_potentials(V0,V1,E_fields,dom_points=self.dom_points,dh=self.dh):\n",
    "            Vs = [[] for n in dom_points]\n",
    "            v_prev = V0\n",
    "            for i,(d,n) in enumerate(zip(Vs,dom_points)):\n",
    "                for j in range(n):\n",
    "                    Vs[i].append(v_prev - E_fields[i]*dh*j)\n",
    "                v_prev = Vs[i][-1]\n",
    "            return Vs\n",
    "        \n",
    "        E_fields = backtrack(V0,V1)\n",
    "        Vs = compute_potentials(V0,V1,E_fields)\n",
    "        \n",
    "        if(plotPotentials==True):\n",
    "            x_prev=0\n",
    "            for i,v in enumerate(Vs):\n",
    "                x = [j*dh+ x_prev for j in range(dom_points[i])]\n",
    "                plt.plot(x,v)\n",
    "                plt.scatter(x,v)\n",
    "                x_prev = x[-1]\n",
    "            plt.title(f'Potential variation of the input structure for the applied bias : {V0-V1} V -> Edges = {V0,V1}')\n",
    "            plt.xlabel('x (m)')\n",
    "            plt.ylabel('V')\n",
    "            plt.show()\n",
    "                \n",
    "        self.mesh = Vs\n",
    "    "
   ]
  },
  {
   "cell_type": "markdown",
   "id": "cae3f049",
   "metadata": {},
   "source": [
    "### Solving the Laplace equation and displaying the potential variation for a sample structure and applied bias"
   ]
  },
  {
   "cell_type": "code",
   "execution_count": 3,
   "id": "0c34c90c",
   "metadata": {
    "scrolled": false
   },
   "outputs": [
    {
     "data": {
      "image/png": "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\n",
      "text/plain": [
       "<Figure size 432x288 with 1 Axes>"
      ]
     },
     "metadata": {
      "needs_background": "light"
     },
     "output_type": "display_data"
    },
    {
     "data": {
      "image/png": "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\n",
      "text/plain": [
       "<Figure size 432x288 with 1 Axes>"
      ]
     },
     "metadata": {
      "needs_background": "light"
     },
     "output_type": "display_data"
    },
    {
     "name": "stdout",
     "output_type": "stream",
     "text": [
      "The potentials are:  [[0.0, 3.0], [3.0, 3.5, 4.0], [4.0, 5.5, 7.0, 8.5, 10.0]]\n"
     ]
    }
   ],
   "source": [
    "numdom=3 # number of domains in the structure\n",
    "dom_points = [2,3,5] # points per domain\n",
    "epsilons = [1,6,2] # relative permittivities of each domain\n",
    "dh = 1e-9 # mesh constant\n",
    "mesh_ = mesh(numdom=numdom, dom_points=dom_points, epsilons=epsilons, dh=dh) # defining a sample mesh using the above parameters\n",
    "mesh_a = mesh_.mesh()\n",
    "mesh_.displayMesh()\n",
    "mesh_a = mesh_.solveLaplace([0,10],plotPotentials=True) # solve the laplace equation for the mesh and update the mesh object\n",
    "print('The potentials are: ',mesh_.mesh)"
   ]
  },

 ],
 "metadata": {
  "kernelspec": {
   "display_name": "Python 3 (ipykernel)",
   "language": "python",
   "name": "python3"
  },
  "language_info": {
   "codemirror_mode": {
    "name": "ipython",
    "version": 3
   },
   "file_extension": ".py",
   "mimetype": "text/x-python",
   "name": "python",
   "nbconvert_exporter": "python",
   "pygments_lexer": "ipython3",
   "version": "3.10.5"
  }
 },
 "nbformat": 4,
 "nbformat_minor": 5
}
